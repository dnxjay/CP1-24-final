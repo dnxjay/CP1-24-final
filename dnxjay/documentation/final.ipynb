{
 "cells": [
  {
   "cell_type": "code",
   "execution_count": 8,
   "metadata": {},
   "outputs": [
    {
     "ename": "FileNotFoundError",
     "evalue": "[Errno 2] No such file or directory: '../dnxjay/data/markdown/'",
     "output_type": "error",
     "traceback": [
      "\u001b[0;31m---------------------------------------------------------------------------\u001b[0m",
      "\u001b[0;31mFileNotFoundError\u001b[0m                         Traceback (most recent call last)",
      "Cell \u001b[0;32mIn[8], line 18\u001b[0m\n\u001b[1;32m     15\u001b[0m csv_files \u001b[38;5;241m=\u001b[39m [\u001b[38;5;124mf\u001b[39m\u001b[38;5;124m\"\u001b[39m\u001b[38;5;124mTrial_\u001b[39m\u001b[38;5;132;01m{\u001b[39;00mi\u001b[38;5;132;01m:\u001b[39;00m\u001b[38;5;124m02d\u001b[39m\u001b[38;5;132;01m}\u001b[39;00m\u001b[38;5;124m_sinewalk.csv\u001b[39m\u001b[38;5;124m\"\u001b[39m \u001b[38;5;28;01mfor\u001b[39;00m i \u001b[38;5;129;01min\u001b[39;00m \u001b[38;5;28mrange\u001b[39m(\u001b[38;5;241m1\u001b[39m, \u001b[38;5;241m11\u001b[39m)]\n\u001b[1;32m     17\u001b[0m \u001b[38;5;66;03m# Debugging: Print available files in markdown and csv folders\u001b[39;00m\n\u001b[0;32m---> 18\u001b[0m \u001b[38;5;28mprint\u001b[39m(\u001b[38;5;124m\"\u001b[39m\u001b[38;5;124mMarkdown files:\u001b[39m\u001b[38;5;124m\"\u001b[39m, \u001b[43mos\u001b[49m\u001b[38;5;241;43m.\u001b[39;49m\u001b[43mlistdir\u001b[49m\u001b[43m(\u001b[49m\u001b[43mmarkdown_dir\u001b[49m\u001b[43m)\u001b[49m)\n\u001b[1;32m     19\u001b[0m \u001b[38;5;28mprint\u001b[39m(\u001b[38;5;124m\"\u001b[39m\u001b[38;5;124mCSV files:\u001b[39m\u001b[38;5;124m\"\u001b[39m, os\u001b[38;5;241m.\u001b[39mlistdir(csv_dir))\n\u001b[1;32m     21\u001b[0m \u001b[38;5;66;03m# Plot each trial\u001b[39;00m\n",
      "\u001b[0;31mFileNotFoundError\u001b[0m: [Errno 2] No such file or directory: '../dnxjay/data/markdown/'"
     ]
    }
   ],
   "source": [
    "import sys\n",
    "import os\n",
    "import pandas as pd\n",
    "import matplotlib.pyplot as plt\n",
    "\n",
    "# Add the `code` folder to the system path\n",
    "sys.path.append(os.path.abspath(\"../code\"))\n",
    "\n",
    "from final import fahrenheit_to_kelvin, parse_temperature_from_markdown, sine_wave\n",
    "\n",
    "# Adjust paths for markdown and CSV files\n",
    "markdown_dir = \"../dnxjay/data/markdown/\"\n",
    "csv_dir = \"../dnxjay/data/csv/\"\n",
    "markdown_files = [f\"Trial_{i:02d}_sinewalk.md\" for i in range(1, 11)]\n",
    "csv_files = [f\"Trial_{i:02d}_sinewalk.csv\" for i in range(1, 11)]\n",
    "\n",
    "# Debugging: Print available files in markdown and csv folders\n",
    "print(\"Markdown files:\", os.listdir(markdown_dir))\n",
    "print(\"CSV files:\", os.listdir(csv_dir))\n",
    "\n",
    "# Plot each trial\n",
    "for markdown_file, csv_file in zip(markdown_files, csv_files):\n",
    "    # Debugging: Print full paths\n",
    "    print(f\"Processing: Markdown = {markdown_dir}{markdown_file}, CSV = {csv_dir}{csv_file}\")\n",
    "    \n",
    "    # Parse temperature in Kelvin\n",
    "    kelvin_temp = fahrenheit_to_kelvin(parse_temperature_from_markdown(f\"{markdown_dir}{markdown_file}\"))\n",
    "\n",
    "    # Load GPS data\n",
    "    data = pd.read_csv(f\"{csv_dir}{csv_file}\")\n",
    "    x = (data[\"Longitude (°)\"] - data[\"Longitude (°)\"][0]) * 111320  # Convert to meters\n",
    "    y = (data[\"Latitude (°)\"] - data[\"Latitude (°)\"][0]) * 110540    # Convert to meters\n",
    "\n",
    "    # Perform a simple sine wave fit (example logic)\n",
    "    fitted_y = sine_wave(x, amplitude=5, frequency=0.001, phase=0)\n",
    "\n",
    "    # Plot raw data and fitted sine wave\n",
    "    plt.plot(x, y, label=f\"GPS {csv_file} (T={kelvin_temp:.2f}K)\")\n",
    "    plt.plot(x, fitted_y, linestyle='--', label=f\"Fit {csv_file}\")\n",
    "\n",
    "# Configure and show the plot\n",
    "plt.xlabel(\"Longitude (m)\")\n",
    "plt.ylabel(\"Latitude (m)\")\n",
    "plt.title(\"GPS Motion with Non-Linear Fit\")\n",
    "plt.legend()\n",
    "plt.grid()\n",
    "plt.show()\n"
   ]
  },
  {
   "cell_type": "markdown",
   "metadata": {},
   "source": [
    "# CP1-24 Final Project Documentation\n",
    "\n",
    "## How to Run\n",
    "1. Ensure all files (`final.py`, data files, and markdown files) are in the appropriate directories.\n",
    "2. Install required Python libraries:\n",
    "   ```bash\n",
    "   pip install numpy pandas matplotlib\n"
   ]
  }
 ],
 "metadata": {
  "kernelspec": {
   "display_name": "Python 3",
   "language": "python",
   "name": "python3"
  },
  "language_info": {
   "codemirror_mode": {
    "name": "ipython",
    "version": 3
   },
   "file_extension": ".py",
   "mimetype": "text/x-python",
   "name": "python",
   "nbconvert_exporter": "python",
   "pygments_lexer": "ipython3",
   "version": "3.12.1"
  }
 },
 "nbformat": 4,
 "nbformat_minor": 2
}
